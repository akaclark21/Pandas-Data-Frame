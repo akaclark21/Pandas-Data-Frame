{
  "nbformat": 4,
  "nbformat_minor": 0,
  "metadata": {
    "colab": {
      "provenance": [],
      "authorship_tag": "ABX9TyPVsQgWMb/cS1KTlVGNs6Mx",
      "include_colab_link": true
    },
    "kernelspec": {
      "name": "python3",
      "display_name": "Python 3"
    },
    "language_info": {
      "name": "python"
    }
  },
  "cells": [
    {
      "cell_type": "markdown",
      "metadata": {
        "id": "view-in-github",
        "colab_type": "text"
      },
      "source": [
        "<a href=\"https://colab.research.google.com/github/akaclark21/Pandas-Data-Frame/blob/main/data_frames.ipynb\" target=\"_parent\"><img src=\"https://colab.research.google.com/assets/colab-badge.svg\" alt=\"Open In Colab\"/></a>"
      ]
    },
    {
      "cell_type": "markdown",
      "source": [
        "# **Create Data Frames**"
      ],
      "metadata": {
        "id": "Jj4EdHQjl8z1"
      }
    },
    {
      "cell_type": "markdown",
      "source": [
        "**1. List of Lists**"
      ],
      "metadata": {
        "id": "u5FWGkY8oSee"
      }
    },
    {
      "cell_type": "code",
      "execution_count": null,
      "metadata": {
        "id": "EQ0pKqZ8lx8y"
      },
      "outputs": [],
      "source": [
        "#Importing necessary library\n",
        "import pandas as pd"
      ]
    },
    {
      "cell_type": "code",
      "source": [
        "#Creating list of lists\n",
        "data = [['Ashish','Ghaziabad',30,88.0],['Aryan','Vasundhara',28,70.0],['Bhumesh','Uttarpradesh',5,50]]"
      ],
      "metadata": {
        "id": "-VVYI1lxmZny"
      },
      "execution_count": null,
      "outputs": []
    },
    {
      "cell_type": "code",
      "source": [
        "#Creating pandas DataFrame\n",
        "df = pd.DataFrame(data,columns=['Name','City','Age','Percentage'])"
      ],
      "metadata": {
        "id": "X3MCUx2JnQSn"
      },
      "execution_count": null,
      "outputs": []
    },
    {
      "cell_type": "code",
      "source": [
        "#Print DataFrame\n",
        "print(df)"
      ],
      "metadata": {
        "colab": {
          "base_uri": "https://localhost:8080/"
        },
        "id": "XxYTME20niK3",
        "outputId": "37aba808-5adc-4c8e-9025-00e955e7463a"
      },
      "execution_count": null,
      "outputs": [
        {
          "output_type": "stream",
          "name": "stdout",
          "text": [
            "      Name          City  Age  Percentage\n",
            "0   Ashish     Ghaziabad   30        88.0\n",
            "1    Aryan    Vasundhara   28        70.0\n",
            "2  Bhumesh  Uttarpradesh    5        50.0\n"
          ]
        }
      ]
    },
    {
      "cell_type": "markdown",
      "source": [
        "**2. Dictionary of List**"
      ],
      "metadata": {
        "id": "28E6f4jWn23G"
      }
    },
    {
      "cell_type": "code",
      "source": [
        "#Importing necessary library\n",
        "import pandas as pd"
      ],
      "metadata": {
        "id": "2I7yHY5WqzJ0"
      },
      "execution_count": 4,
      "outputs": []
    },
    {
      "cell_type": "code",
      "source": [
        "# Create Dictionary of lists\n",
        "data = {'Name':['Alex','Ben','David','Eva'], 'City':['Mumbai','Chennai','New Delhi','Kolkata'], 'Age':[23,25,33,34],'Percent':[88.0,89.0,90.0,85.8]}"
      ],
      "metadata": {
        "id": "Pxb6P_7brDeS"
      },
      "execution_count": 5,
      "outputs": []
    },
    {
      "cell_type": "code",
      "source": [
        "#Creating pandas DataFrame\n",
        "df = pd.DataFrame(data)"
      ],
      "metadata": {
        "id": "kuGoenysrxHc"
      },
      "execution_count": 6,
      "outputs": []
    },
    {
      "cell_type": "code",
      "source": [
        "#Print DataFrame\n",
        "print(df)"
      ],
      "metadata": {
        "colab": {
          "base_uri": "https://localhost:8080/"
        },
        "id": "HpN7sh8ir5IO",
        "outputId": "e91dc070-3701-4544-e655-69cc82a37636"
      },
      "execution_count": 8,
      "outputs": [
        {
          "output_type": "stream",
          "name": "stdout",
          "text": [
            "    Name       City  Age  Percent\n",
            "0   Alex     Mumbai   23     88.0\n",
            "1    Ben    Chennai   25     89.0\n",
            "2  David  New Delhi   33     90.0\n",
            "3    Eva    Kolkata   34     85.8\n"
          ]
        }
      ]
    }
  ]
}